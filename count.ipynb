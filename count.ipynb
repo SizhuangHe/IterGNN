{
 "cells": [
  {
   "cell_type": "code",
   "execution_count": 4,
   "metadata": {},
   "outputs": [],
   "source": [
    "from torch_geometric.profile.utils import count_parameters\n",
    "from myModels.GNNModel import GraphGNNModels\n",
    "from myModels.OtherLayers import VOCNodeEncoder, GNNInductiveNodeHead"
   ]
  },
  {
   "cell_type": "code",
   "execution_count": 1,
   "metadata": {},
   "outputs": [
    {
     "name": "stderr",
     "output_type": "stream",
     "text": [
      "Downloading https://github.com/kimiyoung/planetoid/raw/master/data/ind.cora.x\n",
      "Downloading https://github.com/kimiyoung/planetoid/raw/master/data/ind.cora.tx\n",
      "Downloading https://github.com/kimiyoung/planetoid/raw/master/data/ind.cora.allx\n",
      "Downloading https://github.com/kimiyoung/planetoid/raw/master/data/ind.cora.y\n",
      "Downloading https://github.com/kimiyoung/planetoid/raw/master/data/ind.cora.ty\n"
     ]
    }
   ],
   "source": [
    "from torch_geometric.datasets import Planetoid\n",
    "from torch_geometric.transforms import NormalizeFeatures\n",
    "dataset = Planetoid(root=\"data/\", name=\"Cora\", transform=NormalizeFeatures())\n",
    "in_channel, out_channel = dataset.num_features, dataset.num_classes"
   ]
  },
  {
   "cell_type": "code",
   "execution_count": null,
   "metadata": {},
   "outputs": [],
   "source": [
    "from torch_geometric.nn.models import MLP\n",
    "from myModels.ourModels import NodeIterativeGNN\n",
    "him_dim=32\n",
    "encoder = MLP(\n",
    "            in_channels=in_channel,\n",
    "            hidden_channels=him_dim,\n",
    "            out_channels=him_dim,\n",
    "            num_layers=1\n",
    "            )\n",
    "decoder = MLP(\n",
    "                in_channels=him_dim,\n",
    "                hidden_channels=him_dim,\n",
    "                out_channels=out_channel,\n",
    "                num_layers=1\n",
    "            )\n",
    "net = NodeIterativeGNN(layer_name=\"GCNConv\",\n",
    "                           hidden_size=him_dim,\n",
    "                           train_schedule=[0.5, 0.5],\n",
    "                           homogeneous_flag=False,\n",
    "                           mlp_dropout=0,\n",
    "                           gnn_dropout=0,\n",
    "                           readout_name=\"Mean\",\n",
    "                           encoder=encoder,\n",
    "                           decoder=decoder,\n",
    "                           jk=None,\n",
    "                           use_bn=False,\n",
    "                           use_relu=True\n",
    "                           )"
   ]
  },
  {
   "cell_type": "code",
   "execution_count": 2,
   "metadata": {},
   "outputs": [],
   "source": [
    "from torch_geometric.datasets import LRGBDataset\n",
    "dataset_root = \"data/\"\n",
    "dataset_name = \"PascalVOC-SP\"\n",
    "train_dataset = LRGBDataset(root=dataset_root, name=dataset_name, split=\"train\")\n",
    "val_dataset = LRGBDataset(root=dataset_root, name=dataset_name, split=\"val\")\n",
    "test_dataset = LRGBDataset(root=dataset_root, name=dataset_name, split=\"test\")\n"
   ]
  },
  {
   "cell_type": "code",
   "execution_count": 6,
   "metadata": {},
   "outputs": [
    {
     "name": "stdout",
     "output_type": "stream",
     "text": [
      "lala\n",
      "aggr: max\n",
      "2899221\n",
      "498021\n"
     ]
    }
   ],
   "source": [
    "from myModels.GNNModel import GraphGNNModels\n",
    "from ogb.graphproppred.mol_encoder import AtomEncoder\n",
    "from myModels.OtherLayers import GNNInductiveNodeHead\n",
    "from torch_geometric.profile.utils import count_parameters\n",
    "from myModels.ourModels import NodeIterativeGNN\n",
    "hid_dim = 400\n",
    "out_channel = train_dataset.num_classes\n",
    "encoder = VOCNodeEncoder(hid_dim)\n",
    "decoder = GNNInductiveNodeHead(in_dim=hid_dim, hid_dim=hid_dim, out_dim=out_channel, num_layers=3)\n",
    "net = GraphGNNModels(architecture_name=\"DeepGNN\",\n",
    "                     layer_num=8,\n",
    "                     layer_name=\"SAGEConv\",\n",
    "                     hidden_size=hid_dim,\n",
    "                     readout_name='Mean',\n",
    "                     encoder=encoder,\n",
    "                     decoder=decoder\n",
    "                     )\n",
    "inet = NodeIterativeGNN(layer_name=\"GATConv\",\n",
    "                        hidden_size=hid_dim,\n",
    "                        train_schedule=[0.6,0.6],\n",
    "                        encoder=encoder,\n",
    "                        decoder=decoder)\n",
    "# print(str(net))\n",
    "num_bn = count_parameters(net.gnn_module.batch_norms[0]) * len(net.gnn_module.batch_norms)\n",
    "num_conf = count_parameters(net.confidence_module)\n",
    "print(count_parameters(net) - num_bn - num_conf)\n",
    "print(count_parameters(inet))\n"
   ]
  },
  {
   "cell_type": "code",
   "execution_count": 10,
   "metadata": {},
   "outputs": [
    {
     "name": "stdout",
     "output_type": "stream",
     "text": [
      "lala\n",
      "aggr: max\n",
      "GraphIterativeGNN(\n",
      "  (embedding_module): AtomEncoder(\n",
      "    (atom_embedding_list): ModuleList(\n",
      "      (0): Embedding(119, 450)\n",
      "      (1): Embedding(5, 450)\n",
      "      (2-3): 2 x Embedding(12, 450)\n",
      "      (4): Embedding(10, 450)\n",
      "      (5-6): 2 x Embedding(6, 450)\n",
      "      (7-8): 2 x Embedding(2, 450)\n",
      "    )\n",
      "  )\n",
      "  (head_module): GNNInductiveNodeHead(\n",
      "    (layer_post_mp): Sequential(\n",
      "      (0): Linear(450, 21, bias=True)\n",
      "    )\n",
      "  )\n",
      "  (readout_module): ReadoutLayers()\n",
      "  (gnn_module): iterArch(\n",
      "    (layer): GNNLayer(\n",
      "      (layer): SAGEConv(\n",
      "        (module): SAGEConv(450, 450, aggr=max)\n",
      "      )\n",
      "    )\n",
      "    (readout): ReadoutLayers()\n",
      "    (batch_norm): BatchNorm1d(450, eps=1e-05, momentum=0.1, affine=True, track_running_stats=True)\n",
      "  )\n",
      ")\n"
     ]
    },
    {
     "data": {
      "text/plain": [
       "494121"
      ]
     },
     "execution_count": 10,
     "metadata": {},
     "output_type": "execute_result"
    }
   ],
   "source": [
    "from myModels.ourModels import GraphIterativeGNN\n",
    "hid_dim = 450\n",
    "encoder = AtomEncoder(hid_dim)\n",
    "decoder = GNNInductiveNodeHead(in_dim=hid_dim, hid_dim=hid_dim, out_dim=out_channel, num_layers=1)\n",
    "iter_net = GraphIterativeGNN(layer_name=\"SAGEConv\",\n",
    "                             hidden_size=hid_dim,\n",
    "                             train_schedule=[0.4, 0.5],\n",
    "                             encoder=encoder,\n",
    "                             decoder=decoder)\n",
    "print(str(iter_net))\n",
    "count_parameters(iter_net)"
   ]
  },
  {
   "cell_type": "code",
   "execution_count": null,
   "metadata": {},
   "outputs": [],
   "source": [
    "from torch_geometric.nn import SAGEConv\n",
    "\n",
    "sg = SAGEConv(10, 15, \"max\")"
   ]
  }
 ],
 "metadata": {
  "kernelspec": {
   "display_name": "iterGNN",
   "language": "python",
   "name": "python3"
  },
  "language_info": {
   "codemirror_mode": {
    "name": "ipython",
    "version": 3
   },
   "file_extension": ".py",
   "mimetype": "text/x-python",
   "name": "python",
   "nbconvert_exporter": "python",
   "pygments_lexer": "ipython3",
   "version": "3.8.2"
  },
  "orig_nbformat": 4
 },
 "nbformat": 4,
 "nbformat_minor": 2
}
